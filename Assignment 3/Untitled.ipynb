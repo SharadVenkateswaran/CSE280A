{
 "cells": [
  {
   "cell_type": "code",
   "execution_count": 21,
   "metadata": {},
   "outputs": [
    {
     "name": "stdout",
     "output_type": "stream",
     "text": [
      "41\n"
     ]
    }
   ],
   "source": [
    "def lineSplit(line):\n",
    "    retList = []\n",
    "    for c in line:\n",
    "        retList.append(int(c))\n",
    "        \n",
    "    return retList\n",
    "\n",
    "data_all_ns = open(\"out.txt\")\n",
    "data_all_ns = [line for line in data_all_ns.read().splitlines()]\n",
    "data_split_ns = [lineSplit(line) for line in data_all_ns]\n",
    "\n",
    "print(len(data_split_ns))"
   ]
  },
  {
   "cell_type": "code",
   "execution_count": 22,
   "metadata": {},
   "outputs": [
    {
     "name": "stdout",
     "output_type": "stream",
     "text": [
      "67698\n"
     ]
    }
   ],
   "source": [
    "oneCount = sum([x.count(1) for x in data_split_ns])\n",
    "print(oneCount)"
   ]
  },
  {
   "cell_type": "code",
   "execution_count": null,
   "metadata": {},
   "outputs": [],
   "source": []
  }
 ],
 "metadata": {
  "kernelspec": {
   "display_name": "Python 3",
   "language": "python",
   "name": "python3"
  },
  "language_info": {
   "codemirror_mode": {
    "name": "ipython",
    "version": 3
   },
   "file_extension": ".py",
   "mimetype": "text/x-python",
   "name": "python",
   "nbconvert_exporter": "python",
   "pygments_lexer": "ipython3",
   "version": "3.8.5"
  }
 },
 "nbformat": 4,
 "nbformat_minor": 4
}
