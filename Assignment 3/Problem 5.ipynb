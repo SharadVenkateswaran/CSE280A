{
 "cells": [
  {
   "cell_type": "code",
   "execution_count": 1,
   "id": "continental-twenty",
   "metadata": {},
   "outputs": [],
   "source": [
    "import string\n",
    "import math\n",
    "import numpy as np\n",
    "import matplotlib.pyplot as plt\n",
    "from collections import defaultdict"
   ]
  },
  {
   "cell_type": "code",
   "execution_count": 31,
   "id": "bronze-diploma",
   "metadata": {},
   "outputs": [
    {
     "name": "stdout",
     "output_type": "stream",
     "text": [
      "Predicted EAS when correct answer was EAS 63 times\n",
      "Predicted EAS when correct answer was EUR 36 times\n",
      "Predicted EAS when correct answer was AFR 1 times\n",
      "Predicted EUR when correct answer was EUR 58 times\n",
      "Predicted EUR when correct answer was EAS 37 times\n",
      "Predicted EUR when correct answer was AFR 5 times\n",
      "Predicted AFR when correct answer was AFR 94 times\n",
      "Predicted AFR when correct answer was EAS 0 times\n",
      "Predicted AFR when correct answer was EUR 6 times\n"
     ]
    }
   ],
   "source": [
    "# Problem 3 code\n",
    "\n",
    "def lineSplit(line):\n",
    "    retList = []\n",
    "    for c in line:\n",
    "        retList.append(int(c))\n",
    "        \n",
    "    return retList\n",
    "\n",
    "data_all = open(\"./Q5.txt\")\n",
    "num_samples = 100\n",
    "num_reps = 100\n",
    "data_all = [line for line in data_all.read().splitlines()]\n",
    "sample_data_EAS = []\n",
    "sample_data_EUR = []\n",
    "sample_data_AFR = []\n",
    "\n",
    "allele_freqs_EAS = defaultdict(int)\n",
    "allele_freqs_EUR = defaultdict(int)\n",
    "allele_freqs_AFR = defaultdict(int)\n",
    "\n",
    "\n",
    "\n",
    "# Data starts on line 6\n",
    "line_num = 6\n",
    "\n",
    "correct_EAS = 0\n",
    "correct_EUR = 0\n",
    "correct_AFR = 0\n",
    "predictions_list = [] # list of (predicted, correct) values for confusion matrix\n",
    "for i in range(num_reps):\n",
    "    sample_data_EAS = data_all[line_num:line_num + num_samples]\n",
    "    sample_data_EUR = data_all[line_num+num_samples:line_num + 2*num_samples]\n",
    "    sample_data_AFR = data_all[line_num+2*num_samples:line_num + 3*num_samples]\n",
    "    data_split_EAS = [lineSplit(line) for line in sample_data_EAS]\n",
    "    data_split_EUR = [lineSplit(line) for line in sample_data_EUR]\n",
    "    data_split_AFR = [lineSplit(line) for line in sample_data_AFR]\n",
    "\n",
    "    data_np_EAS = np.array(data_split_EAS)\n",
    "    data_np_EUR = np.array(data_split_EUR)\n",
    "    data_np_AFR = np.array(data_split_AFR)\n",
    "    singletons_EAS = 0\n",
    "    singletons_EUR = 0\n",
    "    singletons_AFR = 0\n",
    "        \n",
    "    for m in range(data_np_EAS.shape[1]):\n",
    "        if sum(data_np_EAS[:,m]) == 1:\n",
    "            singletons_EAS += 1\n",
    "        if sum(data_np_EUR[:,m]) == 1:\n",
    "            singletons_EUR += 1\n",
    "        if sum(data_np_AFR[:,m]) == 1:\n",
    "            singletons_AFR += 1\n",
    "    singletons_list = [(singletons_EAS, \"EAS\"), (singletons_EUR, \"EUR\"), (singletons_AFR, \"AFR\")]\n",
    "    sorted_singletons = sorted(singletons_list, key = lambda x: x[0], reverse=True)\n",
    "            \n",
    "    most_singletons = sorted_singletons[0][1]\n",
    "    middle_singletons = sorted_singletons[1][1]\n",
    "    least_singletons = sorted_singletons[2][1]\n",
    "    \n",
    "    predictions_list.append(((\"EAS\"), most_singletons))\n",
    "    predictions_list.append(((\"EUR\"), middle_singletons))\n",
    "    predictions_list.append(((\"AFR\"), least_singletons))\n",
    "\n",
    "    line_num += 3*num_samples + 4 # Skip 4 lines for metadata\n",
    "\n",
    "\n",
    "print(\"Predicted EAS when correct answer was EAS \" + str(predictions_list.count((\"EAS\", \"EAS\"))) + \" times\")\n",
    "print(\"Predicted EAS when correct answer was EUR \" + str(predictions_list.count((\"EAS\", \"EUR\"))) + \" times\")\n",
    "print(\"Predicted EAS when correct answer was AFR \" + str(predictions_list.count((\"EAS\", \"AFR\"))) + \" times\")\n",
    "print(\"Predicted EUR when correct answer was EUR \" + str(predictions_list.count((\"EUR\", \"EUR\"))) + \" times\")\n",
    "print(\"Predicted EUR when correct answer was EAS \" + str(predictions_list.count((\"EUR\", \"EAS\"))) + \" times\")\n",
    "print(\"Predicted EUR when correct answer was AFR \" + str(predictions_list.count((\"EUR\", \"AFR\"))) + \" times\")\n",
    "print(\"Predicted AFR when correct answer was AFR \" + str(predictions_list.count((\"AFR\", \"AFR\"))) + \" times\")\n",
    "print(\"Predicted AFR when correct answer was EAS \" + str(predictions_list.count((\"AFR\", \"EAS\"))) + \" times\")\n",
    "print(\"Predicted AFR when correct answer was EUR \" + str(predictions_list.count((\"AFR\", \"EUR\"))) + \" times\")"
   ]
  },
  {
   "cell_type": "code",
   "execution_count": null,
   "id": "elder-ecuador",
   "metadata": {},
   "outputs": [],
   "source": []
  }
 ],
 "metadata": {
  "kernelspec": {
   "display_name": "Python 3",
   "language": "python",
   "name": "python3"
  },
  "language_info": {
   "codemirror_mode": {
    "name": "ipython",
    "version": 3
   },
   "file_extension": ".py",
   "mimetype": "text/x-python",
   "name": "python",
   "nbconvert_exporter": "python",
   "pygments_lexer": "ipython3",
   "version": "3.9.1"
  }
 },
 "nbformat": 4,
 "nbformat_minor": 5
}
