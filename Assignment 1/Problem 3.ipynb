{
 "cells": [
  {
   "cell_type": "code",
   "execution_count": 7,
   "id": "intermediate-covering",
   "metadata": {},
   "outputs": [],
   "source": [
    "import math\n",
    "import numpy as np"
   ]
  },
  {
   "cell_type": "code",
   "execution_count": 8,
   "id": "quality-african",
   "metadata": {},
   "outputs": [
    {
     "name": "stdout",
     "output_type": "stream",
     "text": [
      "[0.38636363636363635, 0.21212121212121213, 0.25, 0.15151515151515152]\n",
      "[0, 18, 21, 12]\n",
      "[0, 0, 7, 3]\n",
      "[0, 0, 0, 5]\n",
      "[0, 0, 0, 0]\n"
     ]
    }
   ],
   "source": [
    "alleleCounts = [[0, 18, 21, 12],[0,0,7,3],[0,0,0,5],[0,0,0,0]]\n",
    "P = [0,0,0,0]\n",
    "\n",
    "# Estimates of P(A1) P(A2) P(A3) P(A4) based on counts of heterozygotes\n",
    "P[0] = ((18 + 21 + 12) / 66) / 2\n",
    "P[1] = ((18 + 7 + 3) / 66) / 2\n",
    "P[2] = ((21 + 7 + 5) / 66) / 2\n",
    "P[3] = ((12 + 3 + 5) / 66) / 2\n",
    "\n",
    "print(P)\n",
    "for row in alleleCounts:\n",
    "    print(row)"
   ]
  },
  {
   "cell_type": "code",
   "execution_count": 6,
   "id": "robust-mountain",
   "metadata": {},
   "outputs": [
    {
     "name": "stdout",
     "output_type": "stream",
     "text": [
      "[0.5151515151515152, 0.17171717171717174, 0.20202020202020204, 0.11111111111111094]\n",
      "[[0, 17.692072237526787, 20.814202632384458, 11.447811447811432], [0, 0, 6.938067544128152, 3.8159371492704772], [0, 0, 0, 4.48933782267115], [0, 0, 0, 0]]\n"
     ]
    }
   ],
   "source": [
    "# Problem 3 parameter search\n",
    "\n",
    "bestEstimates = [0,0,0,0] # [Pr(A1), Pr(A2), Pr(A3), Pr(A4)]\n",
    "bestDistance = 10000\n",
    "estimatedCounts = [[0,0,0,0] for i in range(4)]\n",
    "\n",
    "def distance1(actual, estimated):\n",
    "    totalDistance = 0\n",
    "    for i in range(len(actual[0])):\n",
    "        for j in range(i+1, len(actual[0])):\n",
    "            totalDistance += abs(estimated[i][j] - actual[i][j])\n",
    "    return totalDistance\n",
    "\n",
    "# Consider probabilities between 0 and 1 in increments of step\n",
    "step = 0.01\n",
    "\n",
    "for prA1 in np.linspace(0,1,int(1 / step)):\n",
    "     for prA2 in np.linspace(0, 1, int(1 / step)):\n",
    "            if prA1 + prA2 > 1:\n",
    "                continue\n",
    "            for prA3 in np.linspace(0,1, int(1 / step)):\n",
    "                if prA1 + prA2 + prA3 > 1:\n",
    "                    continue\n",
    "                for prA4 in np.linspace(0,1, int(1 / step)):\n",
    "                    if prA1 + prA2 + prA3 > 1:\n",
    "                        continue\n",
    "                    prA4 = 1 - (prA1 + prA2 + prA3)\n",
    "                    estimated_probs = [prA1,prA2,prA3,prA4]\n",
    "                    for i in range(4):\n",
    "                        for j in range(i+1,4):\n",
    "                            estimatedCounts[i][j] = 2*float(estimated_probs[i])*estimated_probs[j] * 100\n",
    "                    distance = distance1(alleleCounts, estimatedCounts)\n",
    "                    if(distance < bestDistance):\n",
    "                        bestDistance = distance\n",
    "                        bestEstimates = list.copy(estimated_probs)\n",
    "                    \n",
    "print(bestEstimates)\n",
    "for i in range(4):\n",
    "    for j in range(i+1,4):\n",
    "        estimatedCounts[i][j] = 2*float(bestEstimates[i])*bestEstimates[j] * 100\n",
    "        \n",
    "print(estimatedCounts)\n",
    "               "
   ]
  }
 ],
 "metadata": {
  "kernelspec": {
   "display_name": "Python 3",
   "language": "python",
   "name": "python3"
  },
  "language_info": {
   "codemirror_mode": {
    "name": "ipython",
    "version": 3
   },
   "file_extension": ".py",
   "mimetype": "text/x-python",
   "name": "python",
   "nbconvert_exporter": "python",
   "pygments_lexer": "ipython3",
   "version": "3.9.1"
  }
 },
 "nbformat": 4,
 "nbformat_minor": 5
}
