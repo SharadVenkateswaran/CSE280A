{
 "cells": [
  {
   "cell_type": "code",
   "execution_count": 1,
   "id": "medical-bulletin",
   "metadata": {},
   "outputs": [],
   "source": [
    "import string\n",
    "import time\n",
    "import math\n",
    "import numpy as np\n",
    "import matplotlib.pyplot as plt\n",
    "import seaborn"
   ]
  },
  {
   "cell_type": "code",
   "execution_count": 77,
   "id": "romantic-function",
   "metadata": {},
   "outputs": [],
   "source": [
    "# Radix sort as described in class\n",
    "# columns is a list of lists, where each inner list represent  column\n",
    "# returns the sorted list of columns, as well as the list of the original indices of these sorted columns\n",
    "def radixSort(columns):\n",
    "    columnsSorted = (list.copy(columns))\n",
    "    columnsSorted = [(columnsSorted[i], i) for i in range(len(columnsSorted))]  \n",
    "    for i in reversed(range(len(columnsSorted[0][0]))):\n",
    "        bucket0 = []\n",
    "        bucket1 = []\n",
    "        for (col, x) in columnsSorted:\n",
    "            if col[i] == '0':\n",
    "                bucket0.append((col, x))\n",
    "            else:\n",
    "                bucket1.append((col, x))\n",
    "        columnsSorted = list.copy(bucket0 + bucket1)\n",
    "    columnsSorted.reverse()\n",
    "    return [x[0] for x in columnsSorted], [x[1] for x in columnsSorted]\n",
    "\n",
    "# See write up for description\n",
    "# returns (False, -1) if the dataset does not admit perfect phylogeny\n",
    "# If the dataset does admit perfect phylogeny, returns (True, relationships)\n",
    "# relationships is a list of length m where entry i is the label of the rightmost column that is a\n",
    "#   superset of column i, if one exists\n",
    "def checkPhylogeny(columnsSorted, labels):\n",
    "    leastContaining = [-1 for i in range(len(columnsSorted[0]))]\n",
    "    relationships = [-1 for i in range(len(columnsSorted))] # For each column, who is its superset, if any?\n",
    "    for i in range(len(columnsSorted)):\n",
    "        possibleSuperSet = -1\n",
    "        for j in range(len(columnsSorted[i])):\n",
    "            if columnsSorted[i][j] == '1':\n",
    "                if possibleSuperSet == -1:\n",
    "                    possibleSuperSet = leastContaining[j]\n",
    "                elif possibleSuperSet != leastContaining[j]:\n",
    "                    return (False, -1)\n",
    "        \n",
    "        for j in range(len(columnsSorted[i])):\n",
    "            if columnsSorted[i][j] == '1':\n",
    "                leastContaining[j] = labels[i]\n",
    "        relationships[i] = possibleSuperSet\n",
    "    return (True, relationships)\n",
    "\n",
    "\n",
    "# Check if a perfect phylogeny exists - brute force\n",
    "# For each column, compare to all columns. If the columns are disjoint or have a subset relationship, continue\n",
    "# Otherwise, output False\n",
    "# If all column pairs have been checked, output True\n",
    "def checkPhylogeny_bf(columns, labels):\n",
    "    for i in range(len(columns)):\n",
    "        for j in range(len(columns)):\n",
    "            if subset(columns[i], columns[j]) or subset(columns[j], columns[i]) or disjoint(columns[i], columns[j]):\n",
    "                continue\n",
    "            else:\n",
    "                return (False, 0)\n",
    "    return (True, 0)\n",
    "\n",
    "#is column1 a subset of column2?\n",
    "def subset(column1, column2):\n",
    "    for i in range(len(column1)):\n",
    "        if column1[i] == '1' and column2[i] == '0':\n",
    "            return False\n",
    "    return True\n",
    "\n",
    "# Is column1 disjoin from column2?\n",
    "def disjoint(column1, column2):\n",
    "    for i in range(len(column1)):\n",
    "        if column1[i] == '1' and column2[i] == '1':\n",
    "            return False\n",
    "    return True\n",
    "\n",
    "def difference(column1, column2):\n",
    "    retList = ['0' for i in range(len(column1))]\n",
    "    for i in range(len(column1)):\n",
    "        if column1[i] == '1' and column2[i] == '0':\n",
    "            retList[i] = '1'\n",
    "    return retList\n",
    "\n",
    "# Get the set of individuals that have the mutation for this column\n",
    "def taxa(column):\n",
    "    retSet = set()\n",
    "    for i in range(len(column)):\n",
    "        if column[i] == '1':\n",
    "            retSet.add(i + 1)\n",
    "            \n",
    "    return retSet\n",
    "        \n",
    "x_vals = []\n",
    "y_vals = []\n",
    "phylogeny_or_not = []"
   ]
  },
  {
   "cell_type": "code",
   "execution_count": 89,
   "id": "designing-nelson",
   "metadata": {},
   "outputs": [],
   "source": [
    "# Run this cell for every data file to accumulate log(n) and log(t(f(m,n))) into x_vals and y_vals\n",
    "data1 = open(\"./a1data6.txt\")\n",
    "data = [line for line in data1.read().splitlines()]\n",
    "x_vals.append(math.log10(len(data)))\n",
    "dataTransposed = [[] for col in data[0]]\n",
    "for i in range(len(data)):\n",
    "    for j in range(len(data[0])):\n",
    "        dataTransposed[j].append(data[i][j])\n",
    "t_start = time.perf_counter()\n",
    "columnsSorted, labels = radixSort(dataTransposed)\n",
    "phylogeny_or_not.append(checkPhylogeny(columnsSorted, labels)[0]) # change to checkPhylogeny_bf to test brute force runtime\n",
    "t_end = time.perf_counter()\n",
    "t_taken = t_end - t_start\n",
    "y_vals.append(math.log10(t_taken))\n",
    "\n"
   ]
  },
  {
   "cell_type": "code",
   "execution_count": 90,
   "id": "sorted-japanese",
   "metadata": {},
   "outputs": [
    {
     "name": "stdout",
     "output_type": "stream",
     "text": [
      "[1.0, 2.0, 3.0, 3.0, 3.0, 4.0]\n",
      "[-3.3378090089692876, -2.300960514119646, -0.5106354623202801, -0.8351557177130434, -0.8739621531621141, 2.436778724760526]\n",
      "[True, True, True, False, False, False]\n"
     ]
    }
   ],
   "source": [
    "print(x_vals)\n",
    "print(y_vals)\n",
    "print(phylogeny_or_not)"
   ]
  },
  {
   "cell_type": "code",
   "execution_count": 91,
   "id": "constitutional-transsexual",
   "metadata": {},
   "outputs": [
    {
     "name": "stdout",
     "output_type": "stream",
     "text": [
      "Slope is:  1.801145477433275\n"
     ]
    },
    {
     "data": {
      "image/png": "[encoded data removed]",
      "text/plain": [
       "<Figure size 432x288 with 1 Axes>"
      ]
     },
     "metadata": {
      "needs_background": "light"
     },
     "output_type": "display_data"
    }
   ],
   "source": [
    "x = np.array(x_vals)\n",
    "y = np.array(y_vals)\n",
    "plt.plot(x, y, 'o')\n",
    "slope, intercept = np.polyfit(x, y, 1)\n",
    "\n",
    "plt.plot(x, slope*x + intercept)\n",
    "print(\"Slope is: \", slope)\n"
   ]
  },
  {
   "cell_type": "code",
   "execution_count": 47,
   "id": "rental-airplane",
   "metadata": {},
   "outputs": [],
   "source": [
    "# Problem 6\n",
    "# To build the tree based on the sorted columns\n",
    "\n",
    "class node:\n",
    "    \n",
    "    def __init__(self, individuals, label):\n",
    "        self.individuals = individuals\n",
    "        self.label = label\n",
    "        self.children = set()\n",
    "        \n",
    "    def addChild(self, child):\n",
    "        self.children.add(child)\n",
    "    \n",
    "    def __str__(self):\n",
    "        return self.label\n",
    "    \n",
    "    def getChildren(self):\n",
    "        return str([str(child) for child in self.children])\n",
    "    \n",
    "    def getIndividuals(self):\n",
    "        return str(self.individuals)\n",
    "        \n",
    "def find_node(all_nodes, label):\n",
    "    for i in range(len(all_nodes)):\n",
    "        if all_nodes[i].label == label:\n",
    "            return all_nodes[i]\n",
    "    return -1"
   ]
  },
  {
   "cell_type": "code",
   "execution_count": 48,
   "id": "swedish-proposal",
   "metadata": {},
   "outputs": [
    {
     "name": "stdout",
     "output_type": "stream",
     "text": [
      "['n', 'k', 'i', 'g', 'e', 'b', 'h', 'f', 'd', 'c', 'a', 'l', 'm', 'o', 'j']\n",
      "['0', '1', '1', '1', '1', '1', '1', '1', '1', '1', '1', '1', '1', '0', '1', '1']\n",
      "['0', '1', '1', '1', '1', '1', '0', '1', '0', '1', '1', '1', '1', '0', '1', '0']\n",
      "['0', '1', '1', '0', '0', '0', '0', '1', '0', '0', '0', '1', '0', '0', '1', '0']\n",
      "['0', '1', '1', '0', '0', '0', '0', '0', '0', '0', '0', '1', '0', '0', '1', '0']\n",
      "['0', '0', '1', '0', '0', '0', '0', '0', '0', '0', '0', '1', '0', '0', '1', '0']\n",
      "['0', '0', '1', '0', '0', '0', '0', '0', '0', '0', '0', '0', '0', '0', '0', '0']\n",
      "['0', '0', '0', '1', '1', '1', '0', '0', '0', '1', '1', '0', '0', '0', '0', '0']\n",
      "['0', '0', '0', '1', '1', '1', '0', '0', '0', '1', '0', '0', '0', '0', '0', '0']\n",
      "['0', '0', '0', '0', '1', '1', '0', '0', '0', '1', '0', '0', '0', '0', '0', '0']\n",
      "['0', '0', '0', '0', '1', '0', '0', '0', '0', '0', '0', '0', '0', '0', '0', '0']\n",
      "['0', '0', '0', '0', '0', '1', '0', '0', '0', '0', '0', '0', '0', '0', '0', '0']\n",
      "['0', '0', '0', '0', '0', '0', '0', '0', '1', '0', '0', '0', '0', '0', '0', '1']\n",
      "['0', '0', '0', '0', '0', '0', '0', '0', '1', '0', '0', '0', '0', '0', '0', '0']\n",
      "['0', '0', '0', '0', '0', '0', '0', '0', '0', '0', '0', '0', '0', '1', '0', '0']\n",
      "['0', '0', '0', '0', '0', '0', '0', '0', '0', '0', '0', '0', '0', '0', '0', '0']\n",
      "[-1, 'n', 'k', 'i', 'g', 'e', 'k', 'h', 'f', 'd', 'd', 'n', 'l', -1, -1]\n"
     ]
    }
   ],
   "source": [
    "data1 = open(\"./a1globedata.txt\")\n",
    "letterLabels = ['a','b','c','d','e','f','g','h','i','j','k','l','m','n','o']\n",
    "data = [line.split() for line in data1.read().splitlines()]\n",
    "data = data[1:]\n",
    "data = [line[1:] for line in data]\n",
    "dataTransposed = [[] for col in data[0]]\n",
    "for i in range(len(data)):\n",
    "    for j in range(len(data[0])):\n",
    "        dataTransposed[j].append(data[i][j])\n",
    "(columnsSorted, labels) = radixSort(dataTransposed)\n",
    "labels = [letterLabels[i] for i in labels]\n",
    "(_, relationships) = checkPhylogeny(columnsSorted, labels) # change to checkPhylogeny_bf to test brute force runtime\n",
    "\n",
    "print(labels)\n",
    "for p in columnsSorted:\n",
    "    print(p)\n",
    "print(relationships)"
   ]
  },
  {
   "cell_type": "code",
   "execution_count": 49,
   "id": "enabling-trainer",
   "metadata": {},
   "outputs": [
    {
     "name": "stdout",
     "output_type": "stream",
     "text": [
      "set()\n"
     ]
    }
   ],
   "source": [
    "root_node = node(set([i in range(len(columnsSorted))]), 'root')\n",
    "print(root_node.children)\n",
    "all_nodes = [root_node]\n",
    "for i in range(len(columnsSorted)):\n",
    "    if relationships[i] == -1:\n",
    "        new_node = node(taxa(columnsSorted[i]), labels[i])\n",
    "        all_nodes.append(new_node)\n",
    "        if(root_node.label == 'root'):\n",
    "            root_node = new_node\n",
    "            continue\n",
    "        new_node.addChild(root_node)\n",
    "        root_node = new_node\n",
    "    else:\n",
    "        new_node = node(taxa(columnsSorted[i]), labels[i])\n",
    "        all_nodes.append(new_node)\n",
    "        parent_node = find_node(all_nodes, relationships[i])\n",
    "        parent_node.addChild(new_node)\n",
    "        parent_node.individuals = parent_node.individuals.difference(new_node.individuals)\n",
    "        \n",
    "        \n",
    "        "
   ]
  },
  {
   "cell_type": "code",
   "execution_count": 46,
   "id": "responsible-corruption",
   "metadata": {},
   "outputs": [
    {
     "name": "stdout",
     "output_type": "stream",
     "text": [
      "the root node is: j\n",
      "j's children are: ['o']\n",
      "j's individuals are: set()\n",
      "o's children are: ['n']\n",
      "o's individuals are: {14}\n",
      "n's children are: ['l', 'k']\n",
      "n's individuals are: {7}\n",
      "l's children are: ['m']\n",
      "l's individuals are: {16}\n",
      "m's children are: []\n",
      "m's individuals are: {9}\n",
      "k's children are: ['h', 'i']\n",
      "k's individuals are: {13}\n",
      "h's children are: ['f']\n",
      "h's individuals are: {11}\n",
      "f's children are: ['d']\n",
      "f's individuals are: {4}\n",
      "d's children are: ['c', 'a']\n",
      "d's individuals are: {10}\n",
      "c's children are: []\n",
      "c's individuals are: {5}\n",
      "a's children are: []\n",
      "a's individuals are: {6}\n",
      "i's children are: ['g']\n",
      "i's individuals are: {8}\n",
      "g's children are: ['e']\n",
      "g's individuals are: {2}\n",
      "e's children are: ['b']\n",
      "e's individuals are: {12, 15}\n",
      "b's children are: []\n",
      "b's individuals are: {3}\n"
     ]
    }
   ],
   "source": [
    "# For each node, print its label, its child node, and its individuals\n",
    "curr_node = root_node\n",
    "def print_tree(node):\n",
    "    print(node.label + \"\\'s children are: \" +node.getChildren())\n",
    "    print(node.label + \"\\'s individuals are: \" + node.getIndividuals())\n",
    "    for node in node.children:\n",
    "        print_tree(node)\n",
    "print(\"the root node is: \" + root_node.label)\n",
    "print_tree(root_node)"
   ]
  },
  {
   "cell_type": "code",
   "execution_count": null,
   "id": "large-female",
   "metadata": {},
   "outputs": [],
   "source": []
  },
  {
   "cell_type": "code",
   "execution_count": null,
   "id": "indonesian-bubble",
   "metadata": {},
   "outputs": [],
   "source": []
  }
 ],
 "metadata": {
  "kernelspec": {
   "display_name": "Python 3",
   "language": "python",
   "name": "python3"
  },
  "language_info": {
   "codemirror_mode": {
    "name": "ipython",
    "version": 3
   },
   "file_extension": ".py",
   "mimetype": "text/x-python",
   "name": "python",
   "nbconvert_exporter": "python",
   "pygments_lexer": "ipython3",
   "version": "3.9.1"
  }
 },
 "nbformat": 4,
 "nbformat_minor": 5
}
